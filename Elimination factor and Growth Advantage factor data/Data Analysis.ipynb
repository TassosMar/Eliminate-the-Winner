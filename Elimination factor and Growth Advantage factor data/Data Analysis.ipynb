{
 "cells": [
  {
   "cell_type": "code",
   "execution_count": 1,
   "id": "59a206ec",
   "metadata": {},
   "outputs": [],
   "source": [
    "import numpy as np\n",
    "import matplotlib.pyplot as plt"
   ]
  },
  {
   "cell_type": "markdown",
   "id": "92ea7fc8",
   "metadata": {},
   "source": [
    "# MODEL1 "
   ]
  },
  {
   "cell_type": "code",
   "execution_count": 2,
   "id": "87f875f8",
   "metadata": {},
   "outputs": [
    {
     "name": "stdout",
     "output_type": "stream",
     "text": [
      "0 \n",
      "\n",
      "0 \n",
      "\n",
      "[0.0000e+00 1.5000e+01 4.8000e+01 4.6000e+01 1.2100e+02 1.7500e+02\n",
      " 3.0700e+02 5.7800e+02 1.1990e+03 3.9447e+04]\n",
      "0 \n",
      "\n",
      "1 \n",
      "\n",
      "[0.0000e+00 4.0000e+00 3.3000e+01 4.3000e+01 5.2000e+01 1.1700e+02\n",
      " 2.3600e+02 3.2900e+02 3.6200e+02 5.7285e+04]\n",
      "0 \n",
      "\n",
      "2 \n",
      "\n",
      "[0.0000e+00 1.7000e+01 4.8000e+01 1.2900e+02 1.7100e+02 2.2700e+02\n",
      " 3.8400e+02 6.9200e+02 1.8200e+03 4.9068e+04]\n",
      "0 \n",
      "\n",
      "3 \n",
      "\n",
      "[    0.    49.   146.   211.   323.   617.  1051.  1824.  4102. 44203.]\n",
      "0 \n",
      "\n",
      "4 \n",
      "\n",
      "[    0.    44.   149.   382.   552.   577.  1192.  2239.  4191. 42402.]\n",
      "0 \n",
      "\n",
      "5 \n",
      "\n",
      "[    0.    75.   208.   410.   724.   893.  1542.  2884.  5460. 39384.]\n",
      "0 \n",
      "\n",
      "6 \n",
      "\n",
      "[    0.    51.   236.   307.   571.   782.   998.  1852.  3646. 43815.]\n",
      "0 \n",
      "\n",
      "7 \n",
      "\n",
      "[0.000e+00 2.700e+01 1.470e+02 2.280e+02 4.060e+02 6.910e+02 9.790e+02\n",
      " 1.958e+03 5.368e+03 4.688e+04]\n",
      "0 \n",
      "\n",
      "8 \n",
      "\n",
      "[0.000e+00 1.600e+01 5.600e+01 9.500e+01 1.950e+02 2.670e+02 3.940e+02\n",
      " 9.490e+02 2.527e+03 5.533e+04]\n",
      "0 \n",
      "\n",
      "9 \n",
      "\n",
      "[    0.    84.   261.   368.   609.   948.  1281.  2029.  4258. 39064.]\n",
      "0 \n",
      "\n",
      "10 \n",
      "\n",
      "[0.0000e+00 2.6000e+01 7.2000e+01 8.4000e+01 1.3400e+02 1.5900e+02\n",
      " 2.3600e+02 2.9200e+02 7.3800e+02 3.8668e+04]\n",
      "0 \n",
      "\n",
      "11 \n",
      "\n",
      "[0.000e+00 1.900e+01 1.270e+02 1.630e+02 4.010e+02 6.440e+02 1.174e+03\n",
      " 1.968e+03 4.426e+03 5.889e+04]\n",
      "1 \n",
      "\n",
      "0 \n",
      "\n",
      "[    0.   300.   520.   741.  1125.  1442.  2028.  2832.  5267. 19970.]\n",
      "1 \n",
      "\n",
      "1 \n",
      "\n",
      "[    0.   270.   464.   741.   969.  1348.  1969.  2762.  5419. 19979.]\n",
      "1 \n",
      "\n",
      "2 \n",
      "\n",
      "[    0.   267.   558.   745.   977.  1427.  2055.  2947.  5207. 20141.]\n",
      "1 \n",
      "\n",
      "3 \n",
      "\n",
      "[    0.   242.   486.   827.  1045.  1454.  1941.  3111.  4946. 20263.]\n",
      "1 \n",
      "\n",
      "4 \n",
      "\n",
      "[    0.   269.   527.   692.  1008.  1413.  1818.  2871.  5357. 22272.]\n",
      "1 \n",
      "\n",
      "5 \n",
      "\n",
      "[    0.   312.   521.   721.  1009.  1294.  1939.  3162.  4825. 21299.]\n",
      "1 \n",
      "\n",
      "6 \n",
      "\n",
      "[    0.   241.   508.   846.  1041.  1325.  1793.  2653.  5872. 21510.]\n",
      "1 \n",
      "\n",
      "7 \n",
      "\n",
      "[    0.   243.   505.   705.  1110.  1433.  2066.  2770.  5312. 23415.]\n",
      "1 \n",
      "\n",
      "8 \n",
      "\n",
      "[    0.   192.   591.   670.  1065.  1248.  1916.  2812.  5319. 21289.]\n",
      "1 \n",
      "\n",
      "9 \n",
      "\n",
      "[    0.   223.   530.   747.  1007.  1428.  1883.  3100.  6001. 20999.]\n",
      "1 \n",
      "\n",
      "10 \n",
      "\n",
      "[    0.   264.   622.   747.  1018.  1199.  1802.  3027.  5328. 21770.]\n",
      "1 \n",
      "\n",
      "11 \n",
      "\n",
      "[    0.   263.   597.   771.   930.  1267.  1822.  2943.  5239. 21566.]\n",
      "2 \n",
      "\n",
      "0 \n",
      "\n",
      "[    0.   233.   520.   752.   963.  1308.  2110.  3192.  5144. 17720.]\n",
      "2 \n",
      "\n",
      "1 \n",
      "\n",
      "[    0.   330.   515.   804.   879.  1357.  1729.  2893.  5408. 17068.]\n",
      "2 \n",
      "\n",
      "2 \n",
      "\n",
      "[    0.   312.   625.   702.   987.  1362.  1699.  3005.  5078. 17402.]\n",
      "2 \n",
      "\n",
      "3 \n",
      "\n",
      "[    0.   296.   565.   664.   999.  1240.  1881.  2610.  5210. 17746.]\n",
      "2 \n",
      "\n",
      "4 \n",
      "\n",
      "[    0.   239.   663.   622.  1049.  1226.  1845.  2521.  5374. 17510.]\n",
      "2 \n",
      "\n",
      "5 \n",
      "\n",
      "[    0.   309.   596.   822.   993.  1331.  1906.  2577.  5236. 17911.]\n",
      "2 \n",
      "\n",
      "6 \n",
      "\n",
      "[    0.   285.   552.   782.  1153.  1276.  2138.  2916.  5558. 17086.]\n",
      "2 \n",
      "\n",
      "7 \n",
      "\n",
      "[    0.   271.   583.   796.  1026.  1273.  2039.  2892.  5090. 17460.]\n",
      "2 \n",
      "\n",
      "8 \n",
      "\n",
      "[    0.   294.   583.   802.  1034.  1526.  1854.  3030.  5268. 17728.]\n",
      "2 \n",
      "\n",
      "9 \n",
      "\n",
      "[    0.   245.   528.   744.   796.  1376.  1829.  2499.  4775. 18240.]\n",
      "2 \n",
      "\n",
      "10 \n",
      "\n",
      "[    0.   259.   641.   847.   927.  1218.  1859.  2919.  5136. 16189.]\n",
      "2 \n",
      "\n",
      "11 \n",
      "\n",
      "[    0.   335.   606.   837.  1155.  1267.  1809.  2978.  4956. 18190.]\n",
      "3 \n",
      "\n",
      "0 \n",
      "\n",
      "[    0.   324.   609.   591.  1045.  1260.  2002.  2336.  4896. 13225.]\n",
      "3 \n",
      "\n",
      "1 \n",
      "\n",
      "[    0.   394.   626.   938.  1066.  1213.  1814.  2736.  4704. 13314.]\n",
      "3 \n",
      "\n",
      "2 \n",
      "\n",
      "[    0.   381.   599.   677.   859.  1191.  1983.  3031.  4676. 13500.]\n",
      "3 \n",
      "\n",
      "3 \n",
      "\n",
      "[    0.   334.   593.   788.   959.  1305.  1982.  2804.  5233. 12040.]\n",
      "3 \n",
      "\n",
      "4 \n",
      "\n",
      "[    0.   361.   617.   773.   956.  1294.  1705.  2812.  4782. 13448.]\n",
      "3 \n",
      "\n",
      "5 \n",
      "\n",
      "[    0.   316.   650.   681.  1100.  1217.  1806.  2973.  4703. 13209.]\n",
      "3 \n",
      "\n",
      "6 \n",
      "\n",
      "[    0.   419.   610.   748.   859.  1238.  1975.  2813.  4490. 12504.]\n",
      "3 \n",
      "\n",
      "7 \n",
      "\n",
      "[    0.   380.   607.   744.  1084.  1330.  1786.  2629.  4562. 13345.]\n",
      "3 \n",
      "\n",
      "8 \n",
      "\n",
      "[    0.   314.   621.   799.   828.  1344.  1775.  2567.  4928. 13849.]\n",
      "3 \n",
      "\n",
      "9 \n",
      "\n",
      "[    0.   264.   547.   792.  1019.  1306.  1721.  2749.  4217. 13020.]\n",
      "3 \n",
      "\n",
      "10 \n",
      "\n",
      "[    0.   291.   560.   866.   959.  1380.  1994.  2584.  4747. 12320.]\n",
      "3 \n",
      "\n",
      "11 \n",
      "\n",
      "[    0.   381.   545.   798.  1089.  1254.  1716.  2682.  4726. 12826.]\n",
      "4 \n",
      "\n",
      "0 \n",
      "\n",
      "[    0.   354.   674.   753.   967.  1267.  1958.  2321.  4977. 10610.]\n",
      "4 \n",
      "\n",
      "1 \n",
      "\n",
      "[    0.   339.   593.   778.   957.  1242.  1830.  2651.  4504. 11651.]\n",
      "4 \n",
      "\n",
      "2 \n",
      "\n",
      "[   0.  327.  574.  626. 1021. 1260. 1895. 2818. 4860. 9466.]\n",
      "4 \n",
      "\n",
      "3 \n",
      "\n",
      "[    0.   346.   607.   811.   974.  1308.  1738.  2565.  4431. 10947.]\n",
      "4 \n",
      "\n",
      "4 \n",
      "\n",
      "[    0.   367.   571.   648.   991.  1269.  1850.  2565.  4662. 10175.]\n",
      "4 \n",
      "\n",
      "5 \n",
      "\n",
      "[    0.   363.   536.   787.  1005.  1430.  1732.  2881.  4565. 10839.]\n",
      "4 \n",
      "\n",
      "6 \n",
      "\n",
      "[    0.   369.   553.   695.  1002.  1211.  1830.  2691.  4205. 10436.]\n",
      "4 \n",
      "\n",
      "7 \n",
      "\n",
      "[    0.   400.   591.   728.   911.  1356.  1940.  2639.  4204. 10781.]\n",
      "4 \n",
      "\n",
      "8 \n",
      "\n",
      "[    0.   376.   603.   775.   965.  1169.  1645.  2614.  4270. 10694.]\n",
      "4 \n",
      "\n",
      "9 \n",
      "\n",
      "[    0.   330.   557.   720.   954.  1351.  1856.  2649.  4274. 10898.]\n",
      "4 \n",
      "\n",
      "10 \n",
      "\n",
      "[    0.   345.   618.   721.   891.  1436.  1815.  2581.  4340. 10620.]\n",
      "4 \n",
      "\n",
      "11 \n",
      "\n",
      "[    0.   377.   579.   748.   945.  1245.  1646.  2639.  4340. 10463.]\n",
      "5 \n",
      "\n",
      "0 \n",
      "\n",
      "[   0.  376.  558.  658.  932. 1197. 1879. 2307. 4433. 9170.]\n",
      "5 \n",
      "\n",
      "1 \n",
      "\n",
      "[   0.  392.  549.  764.  962. 1278. 1966. 2494. 4154. 9359.]\n",
      "5 \n",
      "\n",
      "2 \n",
      "\n",
      "[   0.  353.  498.  808.  875. 1439. 1787. 2902. 3816. 8905.]\n",
      "5 \n",
      "\n",
      "3 \n",
      "\n",
      "[   0.  385.  564.  756.  917. 1255. 1738. 2843. 4222. 8747.]\n",
      "5 \n",
      "\n",
      "4 \n",
      "\n",
      "[   0.  389.  602.  773.  901. 1205. 1640. 2414. 3856. 9562.]\n",
      "5 \n",
      "\n",
      "5 \n",
      "\n",
      "[   0.  445.  568.  752. 1047. 1170. 1658. 2740. 3961. 8838.]\n",
      "5 \n",
      "\n",
      "6 \n",
      "\n",
      "[   0.  398.  571.  747.  885. 1275. 1802. 2159. 4351. 9585.]\n",
      "5 \n",
      "\n",
      "7 \n",
      "\n",
      "[   0.  299.  597.  677.  958. 1267. 1640. 2665. 4045. 9548.]\n",
      "5 \n",
      "\n",
      "8 \n",
      "\n",
      "[   0.  349.  534.  722.  914. 1195. 2027. 2813. 4291. 9311.]\n",
      "5 \n",
      "\n",
      "9 \n",
      "\n",
      "[   0.  376.  602.  763.  857. 1268. 1914. 2430. 3979. 9666.]\n",
      "5 \n",
      "\n",
      "10 \n",
      "\n",
      "[   0.  436.  545.  814.  958. 1166. 1745. 2584. 4583. 8662.]\n",
      "5 \n",
      "\n",
      "11 \n",
      "\n",
      "[   0.  326.  578.  812. 1126. 1230. 1630. 2609. 4036. 8871.]\n",
      "6 \n",
      "\n",
      "0 \n",
      "\n",
      "[   0.  359.  641.  776.  905. 1130. 1794. 2638. 3947. 8113.]\n",
      "6 \n",
      "\n",
      "1 \n",
      "\n",
      "[   0.  341.  644.  664.  954. 1179. 1550. 2449. 3698. 8275.]\n",
      "6 \n",
      "\n",
      "2 \n",
      "\n",
      "[   0.  371.  673.  794.  990. 1272. 1721. 2310. 3874. 8269.]\n",
      "6 \n",
      "\n",
      "3 \n",
      "\n",
      "[   0.  365.  490.  705.  935. 1338. 1489. 2627. 4142. 7946.]\n",
      "6 \n",
      "\n",
      "4 \n",
      "\n",
      "[   0.  406.  485.  756.  904. 1209. 1758. 2584. 3688. 8669.]\n",
      "6 \n",
      "\n",
      "5 \n",
      "\n",
      "[   0.  373.  560.  681.  940. 1333. 1651. 2465. 3731. 8621.]\n",
      "6 \n",
      "\n",
      "6 \n",
      "\n",
      "[   0.  380.  495.  687.  957.  969. 1552. 2123. 4222. 8648.]\n",
      "6 \n",
      "\n",
      "7 \n",
      "\n",
      "[   0.  406.  600.  653.  950. 1211. 1735. 2308. 4075. 7706.]\n",
      "6 \n",
      "\n",
      "8 \n",
      "\n",
      "[   0.  383.  649.  708.  915. 1300. 1684. 2552. 3479. 8429.]\n",
      "6 \n",
      "\n",
      "9 \n",
      "\n",
      "[   0.  353.  526.  653.  843. 1194. 1694. 2562. 3837. 7996.]\n",
      "6 \n",
      "\n",
      "10 \n",
      "\n",
      "[   0.  391.  562.  747.  886. 1310. 1527. 2457. 4040. 8091.]\n",
      "6 \n",
      "\n",
      "11 \n",
      "\n",
      "[   0.  362.  532.  834.  891. 1172. 1802. 2189. 3881. 8857.]\n",
      "7 \n",
      "\n",
      "0 \n",
      "\n",
      "[   0.  435.  528.  720. 1013. 1113. 1595. 2411. 3648. 7140.]\n",
      "7 \n",
      "\n",
      "1 \n",
      "\n",
      "[   0.  430.  542.  703.  838. 1063. 1462. 2461. 3585. 8322.]\n",
      "7 \n",
      "\n",
      "2 \n",
      "\n",
      "[   0.  380.  532.  776.  760. 1307. 1875. 2313. 3579. 7480.]\n",
      "7 \n",
      "\n",
      "3 \n",
      "\n",
      "[   0.  365.  536.  704.  835. 1024. 1684. 2665. 3672. 7150.]\n",
      "7 \n",
      "\n",
      "4 \n",
      "\n",
      "[   0.  382.  519.  738.  814. 1178. 1852. 2618. 3644. 7504.]\n",
      "7 \n",
      "\n",
      "5 \n",
      "\n",
      "[   0.  406.  529.  651.  899. 1377. 1646. 2389. 4259. 6880.]\n",
      "7 \n",
      "\n",
      "6 \n",
      "\n",
      "[   0.  376.  564.  758.  822. 1187. 1756. 2483. 3606. 7684.]\n",
      "7 \n",
      "\n",
      "7 \n",
      "\n",
      "[   0.  428.  528.  739.  742. 1356. 1734. 2563. 3758. 7094.]\n",
      "7 \n",
      "\n",
      "8 \n",
      "\n",
      "[   0.  399.  595.  690. 1047. 1333. 1814. 2273. 3996. 6667.]\n",
      "7 \n",
      "\n",
      "9 \n",
      "\n",
      "[   0.  377.  522.  817.  943. 1180. 1759. 2522. 3560. 7246.]\n",
      "7 \n",
      "\n",
      "10 \n",
      "\n",
      "[   0.  399.  553.  725.  904. 1202. 1453. 2377. 3559. 7814.]\n",
      "7 \n",
      "\n",
      "11 \n",
      "\n",
      "[   0.  396.  576.  682.  849. 1291. 1596. 2638. 3671. 7467.]\n",
      "8 \n",
      "\n",
      "0 \n",
      "\n",
      "[   0.  371.  560.  690.  961. 1212. 1626. 2350. 3666. 6446.]\n",
      "8 \n",
      "\n",
      "1 \n",
      "\n",
      "[   0.  336.  593.  641.  979. 1056. 1605. 2515. 3851. 6378.]\n",
      "8 \n",
      "\n",
      "2 \n",
      "\n",
      "[   0.  359.  621.  613.  806. 1158. 1918. 2190. 3666. 6793.]\n",
      "8 \n",
      "\n",
      "3 \n",
      "\n",
      "[   0.  404.  510.  715.  789. 1065. 1567. 2387. 3486. 7004.]\n",
      "8 \n",
      "\n",
      "4 \n",
      "\n",
      "[   0.  439.  608.  726.  773. 1232. 1596. 2622. 3259. 7146.]\n",
      "8 \n",
      "\n",
      "5 \n",
      "\n",
      "[   0.  410.  485.  632.  942. 1120. 1643. 2378. 3533. 7169.]\n",
      "8 \n",
      "\n",
      "6 \n",
      "\n",
      "[   0.  385.  593.  686.  846. 1146. 1739. 2417. 3778. 6359.]\n",
      "8 \n",
      "\n",
      "7 \n",
      "\n",
      "[   0.  416.  587.  877.  834. 1238. 1488. 2303. 3676. 6847.]\n",
      "8 \n",
      "\n",
      "8 \n",
      "\n",
      "[   0.  342.  610.  606.  919. 1141. 1683. 2288. 3887. 6911.]\n",
      "8 \n",
      "\n",
      "9 \n",
      "\n",
      "[   0.  425.  507.  703.  992. 1235. 1603. 2084. 3303. 7182.]\n",
      "8 \n",
      "\n",
      "10 \n",
      "\n",
      "[   0.  382.  592.  756.  786. 1297. 1617. 2364. 3452. 6716.]\n",
      "8 \n",
      "\n",
      "11 \n",
      "\n",
      "[   0.  421.  608.  634.  911. 1162. 1567. 2256. 4070. 6562.]\n",
      "9 \n",
      "\n",
      "0 \n",
      "\n",
      "[   0.  361.  515.  639.  855. 1055. 1554. 2476. 3693. 6347.]\n",
      "9 \n",
      "\n",
      "1 \n",
      "\n",
      "[   0.  401.  509.  741. 1066. 1072. 1762. 2198. 3562. 5839.]\n",
      "9 \n",
      "\n",
      "2 \n",
      "\n",
      "[   0.  355.  539.  673.  780. 1079. 1459. 2387. 3409. 6757.]\n",
      "9 \n",
      "\n",
      "3 \n",
      "\n",
      "[   0.  465.  478.  648.  891. 1216. 1531. 2211. 3491. 6643.]\n",
      "9 \n",
      "\n",
      "4 \n",
      "\n",
      "[   0.  389.  508.  728.  938. 1196. 1414. 2170. 3647. 6710.]\n",
      "9 \n",
      "\n",
      "5 \n",
      "\n",
      "[   0.  390.  576.  687.  804. 1190. 1513. 2172. 3622. 6392.]\n",
      "9 \n",
      "\n",
      "6 \n",
      "\n",
      "[   0.  412.  517.  662.  894. 1109. 1652. 2064. 3689. 6727.]\n",
      "9 \n",
      "\n",
      "7 \n",
      "\n",
      "[   0.  374.  597.  678.  787. 1108. 1518. 2215. 3343. 6967.]\n",
      "9 \n",
      "\n",
      "8 \n",
      "\n",
      "[   0.  407.  665.  696.  847. 1071. 1575. 2271. 3225. 6955.]\n",
      "9 \n",
      "\n",
      "9 \n",
      "\n",
      "[   0.  455.  558.  691.  882. 1246. 1661. 2057. 3429. 6452.]\n",
      "9 \n",
      "\n",
      "10 \n",
      "\n",
      "[   0.  385.  462.  701.  835. 1087. 1412. 2280. 3333. 6815.]\n",
      "9 \n",
      "\n",
      "11 \n",
      "\n",
      "[   0.  365.  511.  588.  753. 1060. 1477. 2295. 3735. 6450.]\n",
      "10 \n",
      "\n",
      "0 \n",
      "\n",
      "[   0.  439.  593.  751.  954. 1140. 1618. 2253. 3686. 5822.]\n",
      "10 \n",
      "\n",
      "1 \n",
      "\n",
      "[   0.  380.  638.  571.  801. 1128. 1586. 2118. 3321. 6419.]\n",
      "10 \n",
      "\n",
      "2 \n",
      "\n",
      "[   0.  428.  635.  682.  925. 1236. 1423. 2040. 3600. 5961.]\n",
      "10 \n",
      "\n",
      "3 \n",
      "\n",
      "[   0.  381.  492.  684.  964. 1104. 1600. 2063. 3352. 6382.]\n",
      "10 \n",
      "\n",
      "4 \n",
      "\n",
      "[   0.  390.  549.  717.  844. 1262. 1360. 2181. 3537. 6278.]\n",
      "10 \n",
      "\n",
      "5 \n",
      "\n",
      "[   0.  408.  561.  654.  916. 1155. 1795. 2319. 3028. 6309.]\n",
      "10 \n",
      "\n",
      "6 \n",
      "\n",
      "[   0.  330.  583.  786.  884. 1164. 1684. 2185. 3151. 6259.]\n",
      "10 \n",
      "\n",
      "7 \n",
      "\n",
      "[   0.  388.  504.  562.  865. 1046. 1549. 2241. 3555. 6119.]\n",
      "10 \n",
      "\n",
      "8 \n",
      "\n",
      "[   0.  420.  551.  746.  886. 1177. 1584. 2072. 3252. 6130.]\n",
      "10 \n",
      "\n",
      "9 \n",
      "\n",
      "[   0.  417.  574.  652.  807. 1240. 1518. 2050. 3737. 5985.]\n",
      "10 \n",
      "\n",
      "10 \n",
      "\n",
      "[   0.  399.  475.  666.  876. 1163. 1503. 2092. 3593. 6184.]\n",
      "10 \n",
      "\n",
      "11 \n",
      "\n",
      "[   0.  361.  545.  709.  782. 1182. 1683. 2260. 3228. 6150.]\n",
      "11 \n",
      "\n",
      "0 \n",
      "\n",
      "[   0.  384.  550.  580.  923. 1162. 1425. 2363. 3191. 5761.]\n",
      "11 \n",
      "\n",
      "1 \n",
      "\n",
      "[   0.  416.  518.  661.  820. 1218. 1440. 2363. 3190. 5700.]\n",
      "11 \n",
      "\n",
      "2 \n",
      "\n",
      "[   0.  402.  475.  669.  734. 1092. 1608. 2429. 3223. 5642.]\n",
      "11 \n",
      "\n",
      "3 \n",
      "\n",
      "[   0.  381.  614.  669.  835. 1287. 1488. 2115. 3106. 6007.]\n",
      "11 \n",
      "\n",
      "4 \n",
      "\n",
      "[   0.  349.  523.  757.  790. 1137. 1390. 2175. 3484. 5743.]\n",
      "11 \n",
      "\n",
      "5 \n",
      "\n",
      "[   0.  381.  560.  705.  789. 1087. 1347. 2251. 3527. 6122.]\n",
      "11 \n",
      "\n",
      "6 \n",
      "\n",
      "[   0.  395.  524.  596.  794.  939. 1547. 2157. 3497. 5838.]\n",
      "11 \n",
      "\n",
      "7 \n",
      "\n",
      "[   0.  404.  546.  716.  936. 1072. 1597. 2155. 2978. 5868.]\n",
      "11 \n",
      "\n",
      "8 \n",
      "\n",
      "[   0.  370.  543.  699.  817. 1086. 1726. 2183. 3195. 5740.]\n",
      "11 \n",
      "\n",
      "9 \n",
      "\n",
      "[   0.  362.  518.  677.  802.  930. 1501. 2301. 3078. 6046.]\n",
      "11 \n",
      "\n",
      "10 \n",
      "\n",
      "[   0.  415.  527.  683.  977. 1106. 1399. 2352. 3135. 5912.]\n",
      "11 \n",
      "\n",
      "11 \n",
      "\n",
      "[   0.  287.  546.  658.  864. 1092. 1462. 2312. 3317. 5717.]\n"
     ]
    }
   ],
   "source": [
    "edges = [0, 0.05, 0.1, 0.2, 0.3, 0.4, 0.5, 0.6, 0.7, 0.8, 0.9, 1.0]\n",
    "heights = np.empty(shape=(12,10,12))\n",
    "y = 0\n",
    "for i in edges:\n",
    "    x = 0\n",
    "    p = str(i)\n",
    "    with open(\"hist_k p = %s.txt\" % p, \"r\") as f:\n",
    "        for line in f:\n",
    "            if len([float(i[:-1]) for i in line.split()]) != 0:\n",
    "                print(y,'\\n')\n",
    "                print(x,'\\n')\n",
    "                heights[x,:,y] = [float(i[:-1]) for i in line.split()]\n",
    "                \n",
    "                print(heights[x,:,y])\n",
    "                x += 1\n",
    "                \n",
    "    y += 1 "
   ]
  },
  {
   "cell_type": "code",
   "execution_count": 3,
   "id": "07b09fc1",
   "metadata": {},
   "outputs": [
    {
     "data": {
      "text/plain": [
       "array([    0.,   270.,   464.,   741.,   969.,  1348.,  1969.,  2762.,\n",
       "        5419., 19979.])"
      ]
     },
     "execution_count": 3,
     "metadata": {},
     "output_type": "execute_result"
    }
   ],
   "source": [
    "heights[1,:,1]"
   ]
  },
  {
   "cell_type": "code",
   "execution_count": 4,
   "id": "90daff25",
   "metadata": {},
   "outputs": [
    {
     "data": {
      "text/plain": [
       "array([0.1, 0.2, 0.3, 0.4, 0.5, 0.6, 0.7, 0.8, 0.9, 1. ])"
      ]
     },
     "execution_count": 4,
     "metadata": {},
     "output_type": "execute_result"
    }
   ],
   "source": [
    "k = np.linspace(0.1,1,10)\n",
    "k"
   ]
  },
  {
   "cell_type": "code",
   "execution_count": 5,
   "id": "5ce1bd6d",
   "metadata": {},
   "outputs": [],
   "source": [
    "# Fit a polynomial of degree 1 (a linear function) to the data\n",
    "p = np.polyfit(k[2:9], np.log(heights[1,:,1][2:9]), 1)"
   ]
  },
  {
   "cell_type": "code",
   "execution_count": 6,
   "id": "d0f73c0a",
   "metadata": {},
   "outputs": [
    {
     "data": {
      "text/plain": [
       "array([ 464.,  741.,  969., 1348., 1969., 2762., 5419.])"
      ]
     },
     "execution_count": 6,
     "metadata": {},
     "output_type": "execute_result"
    }
   ],
   "source": [
    "heights[1,:,1][2:9]"
   ]
  },
  {
   "cell_type": "code",
   "execution_count": 7,
   "id": "b5c5362b",
   "metadata": {},
   "outputs": [],
   "source": [
    "# Convert the polynomial back into an exponential\n",
    "a = np.exp(p[1])\n",
    "b = p[0]\n",
    "x_fitted = np.linspace(np.min(k[2:9]), np.max(k[2:9]), 100)\n",
    "y_fitted = a * np.exp(b * x_fitted)"
   ]
  },
  {
   "cell_type": "code",
   "execution_count": 8,
   "id": "698be7d5",
   "metadata": {},
   "outputs": [
    {
     "data": {
      "image/png": "[encoded data removed]",
      "text/plain": [
       "<Figure size 576x432 with 1 Axes>"
      ]
     },
     "metadata": {
      "needs_background": "light"
     },
     "output_type": "display_data"
    }
   ],
   "source": [
    "fig, ax = plt.subplots(figsize = [8,6])\n",
    "\n",
    "ax.plot(k,heights[1,:,1],'o', label='model 1 - Raw data')\n",
    "ax.plot(x_fitted, y_fitted, 'k', label='Fitted curve')\n",
    "\n",
    "ax.set_title('hystogram of species at every time-step')\n",
    "ax.set_xlabel('k')\n",
    "ax.set_ylabel('frequency')\n",
    "ax.set_yscale('log')\n",
    "\n",
    "ax.legend();"
   ]
  },
  {
   "cell_type": "code",
   "execution_count": 9,
   "id": "92224622",
   "metadata": {
    "scrolled": true
   },
   "outputs": [
    {
     "data": {
      "text/plain": [
       "3.826350697897941"
      ]
     },
     "execution_count": 9,
     "metadata": {},
     "output_type": "execute_result"
    }
   ],
   "source": [
    "p[0]"
   ]
  },
  {
   "cell_type": "code",
   "execution_count": 10,
   "id": "990c4313",
   "metadata": {},
   "outputs": [
    {
     "data": {
      "text/plain": [
       "48.0"
      ]
     },
     "execution_count": 10,
     "metadata": {},
     "output_type": "execute_result"
    }
   ],
   "source": [
    "heights[0,:,0][2]"
   ]
  },
  {
   "cell_type": "code",
   "execution_count": 11,
   "id": "df77d0a0",
   "metadata": {},
   "outputs": [
    {
     "data": {
      "text/plain": [
       "1199.0"
      ]
     },
     "execution_count": 11,
     "metadata": {},
     "output_type": "execute_result"
    }
   ],
   "source": [
    "heights[0,:,0][8]"
   ]
  },
  {
   "cell_type": "code",
   "execution_count": 12,
   "id": "c9389139",
   "metadata": {},
   "outputs": [
    {
     "data": {
      "text/plain": [
       "array([0.0000e+00, 1.5000e+01, 4.8000e+01, 4.6000e+01, 1.2100e+02,\n",
       "       1.7500e+02, 3.0700e+02, 5.7800e+02, 1.1990e+03, 3.9447e+04])"
      ]
     },
     "execution_count": 12,
     "metadata": {},
     "output_type": "execute_result"
    }
   ],
   "source": [
    "heights[0,:,0]"
   ]
  },
  {
   "cell_type": "code",
   "execution_count": null,
   "id": "967cf07b",
   "metadata": {},
   "outputs": [],
   "source": []
  },
  {
   "cell_type": "code",
   "execution_count": 13,
   "id": "9f2c2907",
   "metadata": {},
   "outputs": [
    {
     "data": {
      "text/plain": [
       "24.979166666666668"
      ]
     },
     "execution_count": 13,
     "metadata": {},
     "output_type": "execute_result"
    }
   ],
   "source": [
    "heights[0,:,0][8]/heights[0,:,0][2]"
   ]
  },
  {
   "cell_type": "code",
   "execution_count": null,
   "id": "d0ac451e",
   "metadata": {},
   "outputs": [],
   "source": []
  },
  {
   "cell_type": "code",
   "execution_count": 14,
   "id": "15bb2581",
   "metadata": {},
   "outputs": [
    {
     "data": {
      "text/plain": [
       "11.678879310344827"
      ]
     },
     "execution_count": 14,
     "metadata": {},
     "output_type": "execute_result"
    }
   ],
   "source": [
    "heights[1,:,1][8]/heights[1,:,1][2]"
   ]
  },
  {
   "cell_type": "code",
   "execution_count": null,
   "id": "91491eb5",
   "metadata": {},
   "outputs": [],
   "source": []
  },
  {
   "cell_type": "code",
   "execution_count": 15,
   "id": "47ead074",
   "metadata": {},
   "outputs": [
    {
     "data": {
      "text/plain": [
       "28.095890410958905"
      ]
     },
     "execution_count": 15,
     "metadata": {},
     "output_type": "execute_result"
    }
   ],
   "source": [
    "heights[3,:,0][8]/heights[3,:,0][2]"
   ]
  },
  {
   "cell_type": "code",
   "execution_count": null,
   "id": "69edbaa5",
   "metadata": {},
   "outputs": [],
   "source": []
  },
  {
   "cell_type": "code",
   "execution_count": 16,
   "id": "b34df3fc",
   "metadata": {},
   "outputs": [],
   "source": [
    "slope = np.empty(shape=(12,12))\n",
    "mean = np.empty(12)\n",
    "err = np.empty(12)\n",
    "\n",
    "for z in range(12):\n",
    "    for x in range(12):\n",
    "        # Fit a polynomial of degree 1 (a linear function) to the data\n",
    "        slope[x,z] = np.polyfit(k[2:9], np.log(heights[x,:,z][2:9]), 1)[0]\n",
    "        \n",
    "        \n",
    "    mean[z] = np.mean(slope[:,z])\n",
    "    err[z] = np.std(slope[:,z])/np.sqrt(12)\n",
    "       "
   ]
  },
  {
   "cell_type": "code",
   "execution_count": 17,
   "id": "2a52d88c",
   "metadata": {},
   "outputs": [
    {
     "data": {
      "image/png": "[encoded data removed]",
      "text/plain": [
       "<Figure size 576x432 with 1 Axes>"
      ]
     },
     "metadata": {
      "needs_background": "light"
     },
     "output_type": "display_data"
    }
   ],
   "source": [
    "fig2, ax2 = plt.subplots(figsize = [8,6])\n",
    "\n",
    "ax2.errorbar(edges, mean, yerr=err, fmt=\"o-\", ecolor='r',label='model 1')\n",
    "\n",
    "ax2.set_xlabel('p', fontsize='xx-large');\n",
    "ax2.set_ylabel('$G_{A}$', fontsize='xx-large');   \n",
    "plt.xticks(fontsize = 'xx-large');\n",
    "plt.yticks(fontsize = 'xx-large');\n",
    "#ax2.set_yticks(np.arange(0,1.3,0.2));\n",
    "fig2.tight_layout();\n",
    "ax2.legend(frameon=True, title_fontsize = 'x-large', loc = 'best');"
   ]
  },
  {
   "cell_type": "code",
   "execution_count": 18,
   "id": "a1919212",
   "metadata": {},
   "outputs": [],
   "source": [
    "diff = np.empty(shape=(12,12))\n",
    "mean_d = np.empty(12)\n",
    "err_d = np.empty(12)\n",
    "\n",
    "for z in range(12):\n",
    "    for x in range(12):\n",
    "        # Fit a polynomial of degree 1 (a linear function) to the data\n",
    "        diff[x,z] = heights[x,:,z][8]/heights[x,:,z][2]\n",
    "        \n",
    "        \n",
    "    mean_d[z] = np.mean(diff[:,z])\n",
    "    err_d[z] = np.std(diff[:,z])/np.sqrt(12)\n",
    "       "
   ]
  },
  {
   "cell_type": "code",
   "execution_count": 19,
   "id": "5280a234",
   "metadata": {},
   "outputs": [
    {
     "data": {
      "image/png": "[encoded data removed]",
      "text/plain": [
       "<Figure size 576x432 with 1 Axes>"
      ]
     },
     "metadata": {
      "needs_background": "light"
     },
     "output_type": "display_data"
    }
   ],
   "source": [
    "fig3, ax3 = plt.subplots(figsize = [8,6])\n",
    "\n",
    "ax3.errorbar(edges, mean_d, yerr=err_d, fmt=\"o-\", ecolor='r',label='model 1')\n",
    "\n",
    "ax3.set_xlabel('p', fontsize='xx-large');\n",
    "ax3.set_ylabel('$G_{A}$', fontsize='xx-large');   \n",
    "plt.xticks(fontsize = 'xx-large');\n",
    "plt.yticks(fontsize = 'xx-large');\n",
    "#ax3.set_yticks(np.arange(0,1.3,0.2));\n",
    "fig3.tight_layout();\n",
    "ax3.legend(frameon=True, title_fontsize = 'x-large', loc = 'best');"
   ]
  },
  {
   "cell_type": "code",
   "execution_count": 20,
   "id": "192567af",
   "metadata": {},
   "outputs": [
    {
     "data": {
      "text/plain": [
       "array([26.23705557, 10.04035938,  8.97499637,  7.90334194,  7.61815761,\n",
       "        7.372575  ,  6.90297652,  6.83582549,  6.37244713,  6.62646586,\n",
       "        6.17513145,  6.06179952])"
      ]
     },
     "execution_count": 20,
     "metadata": {},
     "output_type": "execute_result"
    }
   ],
   "source": [
    "mean_d"
   ]
  },
  {
   "cell_type": "code",
   "execution_count": 21,
   "id": "d96a2162",
   "metadata": {},
   "outputs": [],
   "source": [
    "compare = np.empty(11)\n",
    "for i in range(1,12):\n",
    "    compare[i-1] = mean_d[i-1]/mean_d[i]"
   ]
  },
  {
   "cell_type": "code",
   "execution_count": 22,
   "id": "ff376545",
   "metadata": {},
   "outputs": [
    {
     "data": {
      "image/png": "[encoded data removed]",
      "text/plain": [
       "<Figure size 576x432 with 1 Axes>"
      ]
     },
     "metadata": {
      "needs_background": "light"
     },
     "output_type": "display_data"
    }
   ],
   "source": [
    "fig4, ax4 = plt.subplots(figsize = [8,6])\n",
    "\n",
    "ax4.plot(edges[1:12], compare, \"o-\", label='model 1')\n",
    "\n",
    "ax4.set_xlabel('p', fontsize='xx-large');\n",
    "ax4.set_ylabel('$G_{A}$', fontsize='xx-large');   \n",
    "plt.xticks(fontsize = 'xx-large');\n",
    "plt.yticks(fontsize = 'xx-large');\n",
    "#ax4.set_yticks(np.arange(0,1.3,0.2));\n",
    "fig4.tight_layout();\n",
    "ax4.legend(frameon=True, title_fontsize = 'x-large', loc = 'best');"
   ]
  },
  {
   "cell_type": "markdown",
   "id": "c5124a36",
   "metadata": {},
   "source": [
    "# MODEL 2"
   ]
  },
  {
   "cell_type": "code",
   "execution_count": 23,
   "id": "ac695682",
   "metadata": {},
   "outputs": [
    {
     "name": "stdout",
     "output_type": "stream",
     "text": [
      "0 \n",
      "\n",
      "0 \n",
      "\n",
      "0 \n",
      "\n",
      "1 \n",
      "\n",
      "0 \n",
      "\n",
      "2 \n",
      "\n",
      "0 \n",
      "\n",
      "3 \n",
      "\n",
      "0 \n",
      "\n",
      "4 \n",
      "\n",
      "0 \n",
      "\n",
      "5 \n",
      "\n",
      "0 \n",
      "\n",
      "6 \n",
      "\n",
      "0 \n",
      "\n",
      "7 \n",
      "\n",
      "0 \n",
      "\n",
      "8 \n",
      "\n",
      "0 \n",
      "\n",
      "9 \n",
      "\n",
      "0 \n",
      "\n",
      "10 \n",
      "\n",
      "0 \n",
      "\n",
      "11 \n",
      "\n",
      "1 \n",
      "\n",
      "0 \n",
      "\n",
      "1 \n",
      "\n",
      "1 \n",
      "\n",
      "1 \n",
      "\n",
      "2 \n",
      "\n",
      "1 \n",
      "\n",
      "3 \n",
      "\n",
      "1 \n",
      "\n",
      "4 \n",
      "\n",
      "1 \n",
      "\n",
      "5 \n",
      "\n",
      "1 \n",
      "\n",
      "6 \n",
      "\n",
      "1 \n",
      "\n",
      "7 \n",
      "\n",
      "1 \n",
      "\n",
      "8 \n",
      "\n",
      "1 \n",
      "\n",
      "9 \n",
      "\n",
      "1 \n",
      "\n",
      "10 \n",
      "\n",
      "1 \n",
      "\n",
      "11 \n",
      "\n",
      "2 \n",
      "\n",
      "0 \n",
      "\n",
      "2 \n",
      "\n",
      "1 \n",
      "\n",
      "2 \n",
      "\n",
      "2 \n",
      "\n",
      "2 \n",
      "\n",
      "3 \n",
      "\n",
      "2 \n",
      "\n",
      "4 \n",
      "\n",
      "2 \n",
      "\n",
      "5 \n",
      "\n",
      "2 \n",
      "\n",
      "6 \n",
      "\n",
      "2 \n",
      "\n",
      "7 \n",
      "\n",
      "2 \n",
      "\n",
      "8 \n",
      "\n",
      "2 \n",
      "\n",
      "9 \n",
      "\n",
      "2 \n",
      "\n",
      "10 \n",
      "\n",
      "2 \n",
      "\n",
      "11 \n",
      "\n",
      "3 \n",
      "\n",
      "0 \n",
      "\n",
      "3 \n",
      "\n",
      "1 \n",
      "\n",
      "3 \n",
      "\n",
      "2 \n",
      "\n",
      "3 \n",
      "\n",
      "3 \n",
      "\n",
      "3 \n",
      "\n",
      "4 \n",
      "\n",
      "3 \n",
      "\n",
      "5 \n",
      "\n",
      "3 \n",
      "\n",
      "6 \n",
      "\n",
      "3 \n",
      "\n",
      "7 \n",
      "\n",
      "3 \n",
      "\n",
      "8 \n",
      "\n",
      "3 \n",
      "\n",
      "9 \n",
      "\n",
      "3 \n",
      "\n",
      "10 \n",
      "\n",
      "3 \n",
      "\n",
      "11 \n",
      "\n",
      "4 \n",
      "\n",
      "0 \n",
      "\n",
      "4 \n",
      "\n",
      "1 \n",
      "\n",
      "4 \n",
      "\n",
      "2 \n",
      "\n",
      "4 \n",
      "\n",
      "3 \n",
      "\n",
      "4 \n",
      "\n",
      "4 \n",
      "\n",
      "4 \n",
      "\n",
      "5 \n",
      "\n",
      "4 \n",
      "\n",
      "6 \n",
      "\n",
      "4 \n",
      "\n",
      "7 \n",
      "\n",
      "4 \n",
      "\n",
      "8 \n",
      "\n",
      "4 \n",
      "\n",
      "9 \n",
      "\n",
      "4 \n",
      "\n",
      "10 \n",
      "\n",
      "4 \n",
      "\n",
      "11 \n",
      "\n",
      "5 \n",
      "\n",
      "0 \n",
      "\n",
      "5 \n",
      "\n",
      "1 \n",
      "\n",
      "5 \n",
      "\n",
      "2 \n",
      "\n",
      "5 \n",
      "\n",
      "3 \n",
      "\n",
      "5 \n",
      "\n",
      "4 \n",
      "\n",
      "5 \n",
      "\n",
      "5 \n",
      "\n",
      "5 \n",
      "\n",
      "6 \n",
      "\n",
      "5 \n",
      "\n",
      "7 \n",
      "\n",
      "5 \n",
      "\n",
      "8 \n",
      "\n",
      "5 \n",
      "\n",
      "9 \n",
      "\n",
      "5 \n",
      "\n",
      "10 \n",
      "\n",
      "5 \n",
      "\n",
      "11 \n",
      "\n",
      "6 \n",
      "\n",
      "0 \n",
      "\n",
      "6 \n",
      "\n",
      "1 \n",
      "\n",
      "6 \n",
      "\n",
      "2 \n",
      "\n",
      "6 \n",
      "\n",
      "3 \n",
      "\n",
      "6 \n",
      "\n",
      "4 \n",
      "\n",
      "6 \n",
      "\n",
      "5 \n",
      "\n",
      "6 \n",
      "\n",
      "6 \n",
      "\n",
      "6 \n",
      "\n",
      "7 \n",
      "\n",
      "6 \n",
      "\n",
      "8 \n",
      "\n",
      "6 \n",
      "\n",
      "9 \n",
      "\n",
      "6 \n",
      "\n",
      "10 \n",
      "\n",
      "6 \n",
      "\n",
      "11 \n",
      "\n",
      "7 \n",
      "\n",
      "0 \n",
      "\n",
      "7 \n",
      "\n",
      "1 \n",
      "\n",
      "7 \n",
      "\n",
      "2 \n",
      "\n",
      "7 \n",
      "\n",
      "3 \n",
      "\n",
      "7 \n",
      "\n",
      "4 \n",
      "\n",
      "7 \n",
      "\n",
      "5 \n",
      "\n",
      "7 \n",
      "\n",
      "6 \n",
      "\n",
      "7 \n",
      "\n",
      "7 \n",
      "\n",
      "7 \n",
      "\n",
      "8 \n",
      "\n",
      "7 \n",
      "\n",
      "9 \n",
      "\n",
      "7 \n",
      "\n",
      "10 \n",
      "\n",
      "7 \n",
      "\n",
      "11 \n",
      "\n",
      "8 \n",
      "\n",
      "0 \n",
      "\n",
      "8 \n",
      "\n",
      "1 \n",
      "\n",
      "8 \n",
      "\n",
      "2 \n",
      "\n",
      "8 \n",
      "\n",
      "3 \n",
      "\n",
      "8 \n",
      "\n",
      "4 \n",
      "\n",
      "8 \n",
      "\n",
      "5 \n",
      "\n",
      "8 \n",
      "\n",
      "6 \n",
      "\n",
      "8 \n",
      "\n",
      "7 \n",
      "\n",
      "8 \n",
      "\n",
      "8 \n",
      "\n",
      "8 \n",
      "\n",
      "9 \n",
      "\n",
      "8 \n",
      "\n",
      "10 \n",
      "\n",
      "8 \n",
      "\n",
      "11 \n",
      "\n",
      "9 \n",
      "\n",
      "0 \n",
      "\n",
      "9 \n",
      "\n",
      "1 \n",
      "\n",
      "9 \n",
      "\n",
      "2 \n",
      "\n",
      "9 \n",
      "\n",
      "3 \n",
      "\n",
      "9 \n",
      "\n",
      "4 \n",
      "\n",
      "9 \n",
      "\n",
      "5 \n",
      "\n",
      "9 \n",
      "\n",
      "6 \n",
      "\n",
      "9 \n",
      "\n",
      "7 \n",
      "\n",
      "9 \n",
      "\n",
      "8 \n",
      "\n",
      "9 \n",
      "\n",
      "9 \n",
      "\n",
      "9 \n",
      "\n",
      "10 \n",
      "\n",
      "9 \n",
      "\n",
      "11 \n",
      "\n",
      "10 \n",
      "\n",
      "0 \n",
      "\n",
      "10 \n",
      "\n",
      "1 \n",
      "\n",
      "10 \n",
      "\n",
      "2 \n",
      "\n",
      "10 \n",
      "\n",
      "3 \n",
      "\n",
      "10 \n",
      "\n",
      "4 \n",
      "\n",
      "10 \n",
      "\n",
      "5 \n",
      "\n",
      "10 \n",
      "\n",
      "6 \n",
      "\n",
      "10 \n",
      "\n",
      "7 \n",
      "\n",
      "10 \n",
      "\n",
      "8 \n",
      "\n",
      "10 \n",
      "\n",
      "9 \n",
      "\n",
      "10 \n",
      "\n",
      "10 \n",
      "\n",
      "10 \n",
      "\n",
      "11 \n",
      "\n",
      "11 \n",
      "\n",
      "0 \n",
      "\n",
      "11 \n",
      "\n",
      "1 \n",
      "\n",
      "11 \n",
      "\n",
      "2 \n",
      "\n",
      "11 \n",
      "\n",
      "3 \n",
      "\n",
      "11 \n",
      "\n",
      "4 \n",
      "\n",
      "11 \n",
      "\n",
      "5 \n",
      "\n",
      "11 \n",
      "\n",
      "6 \n",
      "\n",
      "11 \n",
      "\n",
      "7 \n",
      "\n",
      "11 \n",
      "\n",
      "8 \n",
      "\n",
      "11 \n",
      "\n",
      "9 \n",
      "\n",
      "11 \n",
      "\n",
      "10 \n",
      "\n",
      "11 \n",
      "\n",
      "11 \n",
      "\n"
     ]
    }
   ],
   "source": [
    "edges = [0, 0.05, 0.1, 0.2, 0.3, 0.4, 0.5, 0.6, 0.7, 0.8, 0.9, 1.0]\n",
    "heights2 = np.empty(shape=(12,10,12))\n",
    "y = 0\n",
    "for i in edges:\n",
    "    x = 0\n",
    "    p = str(i)\n",
    "    with open(r\"C:\\Users\\TM\\Documents\\model 2\\log-hystogram\\hist_k p = %s.txt\" % p, \"r\") as f:\n",
    "        for line in f:\n",
    "            if len([float(i[:-1]) for i in line.split()]) != 0:\n",
    "                print(y,'\\n')\n",
    "                print(x,'\\n')\n",
    "                heights2[x,:,y] = [float(i[:-1]) for i in line.split()]\n",
    "                \n",
    "                x += 1\n",
    "                \n",
    "    y += 1 "
   ]
  },
  {
   "cell_type": "code",
   "execution_count": null,
   "id": "06f7e13f",
   "metadata": {},
   "outputs": [],
   "source": []
  },
  {
   "cell_type": "code",
   "execution_count": 24,
   "id": "79fabf6b",
   "metadata": {},
   "outputs": [
    {
     "data": {
      "text/plain": [
       "array([0.1, 0.2, 0.3, 0.4, 0.5, 0.6, 0.7, 0.8, 0.9, 1. ])"
      ]
     },
     "execution_count": 24,
     "metadata": {},
     "output_type": "execute_result"
    }
   ],
   "source": [
    "k = np.linspace(0.1,1,10)\n",
    "k"
   ]
  },
  {
   "cell_type": "code",
   "execution_count": 25,
   "id": "67e03559",
   "metadata": {},
   "outputs": [],
   "source": [
    "# Fit a polynomial of degree 1 (a linear function) to the data\n",
    "p = np.polyfit(k[2:9], np.log(heights2[1,:,1][2:9]), 1)"
   ]
  },
  {
   "cell_type": "code",
   "execution_count": 26,
   "id": "cbe5c774",
   "metadata": {},
   "outputs": [
    {
     "data": {
      "text/plain": [
       "array([ 646.,  758.,  894., 1459., 2205., 3000., 5393.])"
      ]
     },
     "execution_count": 26,
     "metadata": {},
     "output_type": "execute_result"
    }
   ],
   "source": [
    "heights2[1,:,1][2:9]"
   ]
  },
  {
   "cell_type": "code",
   "execution_count": 27,
   "id": "31d39bd3",
   "metadata": {},
   "outputs": [],
   "source": [
    "# Convert the polynomial back into an exponential\n",
    "a = np.exp(p[1])\n",
    "b = p[0]\n",
    "x_fitted = np.linspace(np.min(k[2:9]), np.max(k[2:9]), 100)\n",
    "y_fitted = a * np.exp(b * x_fitted)"
   ]
  },
  {
   "cell_type": "code",
   "execution_count": 28,
   "id": "dff06d93",
   "metadata": {},
   "outputs": [
    {
     "data": {
      "text/plain": [
       "182.56973420516744"
      ]
     },
     "execution_count": 28,
     "metadata": {},
     "output_type": "execute_result"
    }
   ],
   "source": [
    "a"
   ]
  },
  {
   "cell_type": "code",
   "execution_count": 29,
   "id": "8d2919ea",
   "metadata": {},
   "outputs": [
    {
     "data": {
      "image/png": "[encoded data removed]",
      "text/plain": [
       "<Figure size 576x432 with 1 Axes>"
      ]
     },
     "metadata": {
      "needs_background": "light"
     },
     "output_type": "display_data"
    }
   ],
   "source": [
    "fig5, ax5 = plt.subplots(figsize = [8,6])\n",
    "\n",
    "ax5.plot(k,heights2[1,:,1],'o', label='model 2 - Raw data')\n",
    "ax5.plot(x_fitted, y_fitted, 'k', label='Fitted curve')\n",
    "\n",
    "ax5.set_title('hystogram of species at every time-step')\n",
    "ax5.set_xlabel('k')\n",
    "ax5.set_ylabel('frequency')\n",
    "ax5.set_yscale('log')\n",
    "\n",
    "ax5.legend();"
   ]
  },
  {
   "cell_type": "code",
   "execution_count": 30,
   "id": "5e9919ae",
   "metadata": {},
   "outputs": [],
   "source": [
    "slope2 = np.empty(shape=(12,12))\n",
    "mean2 = np.empty(12)\n",
    "err2 = np.empty(12)\n",
    "\n",
    "for z in range(12):\n",
    "    for x in range(12):\n",
    "        # Fit a polynomial of degree 1 (a linear function) to the data\n",
    "        slope2[x,z] = np.polyfit(k[2:9], np.log(heights2[x,:,z][2:9]), 1)[0]\n",
    "        \n",
    "        \n",
    "    mean2[z] = np.mean(slope2[:,z])\n",
    "    err2[z] = np.std(slope2[:,z])/np.sqrt(12)\n",
    "\n",
    " "
   ]
  },
  {
   "cell_type": "code",
   "execution_count": 31,
   "id": "cb8323d9",
   "metadata": {},
   "outputs": [
    {
     "data": {
      "text/plain": [
       "array([[4.5745737 , 3.65539863, 3.36305739, 3.2245523 , 3.19023573,\n",
       "        3.00830428, 2.99279956, 3.08194248, 2.96561223, 2.67825162,\n",
       "        3.08689752, 3.71428751],\n",
       "       [4.88663444, 3.57868505, 3.4752042 , 3.40117493, 3.17522567,\n",
       "        2.83795539, 2.67016887, 2.72549487, 2.87494499, 2.59314757,\n",
       "        3.13320636, 3.44371239],\n",
       "       [4.95354904, 3.51554327, 3.69344078, 3.47072414, 3.02954084,\n",
       "        2.80513658, 3.01500661, 2.91057541, 2.94030153, 2.67216049,\n",
       "        2.95859632, 3.44834426],\n",
       "       [5.98862821, 3.52864508, 3.46460613, 3.48680877, 3.40102788,\n",
       "        2.72607814, 2.95069643, 2.98444379, 2.91600269, 3.13813905,\n",
       "        3.20108966, 3.34321555],\n",
       "       [6.40937703, 3.64194737, 3.49407239, 3.15349159, 2.87936611,\n",
       "        3.25690502, 3.00778234, 2.98532026, 2.98028412, 2.74973968,\n",
       "        3.09534478, 3.33827499],\n",
       "       [4.71488541, 3.85468202, 3.56292143, 2.93288068, 2.74147943,\n",
       "        3.08952608, 2.61107978, 2.61069392, 2.96803616, 2.60265527,\n",
       "        2.85343509, 3.43648464],\n",
       "       [4.49758976, 3.73411423, 3.70829324, 3.29785066, 3.35915577,\n",
       "        2.93346276, 2.8711336 , 2.68652692, 2.79204151, 2.97753711,\n",
       "        2.90112031, 3.14724937],\n",
       "       [5.12489081, 3.68895091, 3.30928852, 3.12167375, 3.08508909,\n",
       "        3.03090037, 3.06592757, 2.85501585, 2.63813784, 3.23657753,\n",
       "        2.92233053, 3.45597796],\n",
       "       [5.84416994, 3.69090353, 3.67404246, 3.60174163, 3.1719308 ,\n",
       "        2.69571816, 2.92489195, 2.79302564, 2.90915489, 2.9972806 ,\n",
       "        2.92834638, 3.82801729],\n",
       "       [4.62033404, 3.61610902, 3.45610734, 3.19879311, 3.18118901,\n",
       "        2.73858177, 2.88230486, 2.52611776, 2.5698965 , 2.50956658,\n",
       "        2.87637612, 4.00522311],\n",
       "       [5.40957432, 3.76048923, 3.60898104, 3.35961829, 2.88206368,\n",
       "        2.8679324 , 2.75213927, 2.99957222, 2.6654812 , 3.03235038,\n",
       "        2.8710415 , 3.28045499],\n",
       "       [4.44909052, 4.03358265, 3.36531326, 3.45740901, 3.11548866,\n",
       "        3.14057485, 2.68095331, 3.03808978, 2.96073094, 2.63049374,\n",
       "        2.80080798, 3.68011472]])"
      ]
     },
     "execution_count": 31,
     "metadata": {},
     "output_type": "execute_result"
    }
   ],
   "source": [
    "slope2"
   ]
  },
  {
   "cell_type": "code",
   "execution_count": 32,
   "id": "0e92cb4a",
   "metadata": {},
   "outputs": [
    {
     "data": {
      "image/png": "[encoded data removed]",
      "text/plain": [
       "<Figure size 576x432 with 1 Axes>"
      ]
     },
     "metadata": {
      "needs_background": "light"
     },
     "output_type": "display_data"
    }
   ],
   "source": [
    "fig6, ax6 = plt.subplots(figsize = [8,6])\n",
    "\n",
    "ax6.errorbar(edges, mean2, yerr=err2, fmt=\"o-\", ecolor='r',label='model 2')\n",
    "\n",
    "ax6.set_xlabel('p', fontsize='xx-large');\n",
    "ax6.set_ylabel('$G_{A}$', fontsize='xx-large');   \n",
    "plt.xticks(fontsize = 'xx-large');\n",
    "plt.yticks(fontsize = 'xx-large');\n",
    "#ax6.set_yticks(np.arange(0,1.3,0.2));\n",
    "fig6.tight_layout();\n",
    "ax6.legend(frameon=True, title_fontsize = 'x-large', loc = 'best');"
   ]
  },
  {
   "cell_type": "code",
   "execution_count": 33,
   "id": "e193520d",
   "metadata": {},
   "outputs": [
    {
     "data": {
      "text/plain": [
       "array([5.12277477, 3.69158758, 3.51461068, 3.30889324, 3.10098272,\n",
       "       2.92758965, 2.86874035, 2.84973491, 2.84838538, 2.8181583 ,\n",
       "       2.96904938, 3.51011306])"
      ]
     },
     "execution_count": 33,
     "metadata": {},
     "output_type": "execute_result"
    }
   ],
   "source": [
    "mean2"
   ]
  },
  {
   "cell_type": "code",
   "execution_count": 34,
   "id": "34240cad",
   "metadata": {},
   "outputs": [],
   "source": [
    "diff2 = np.empty(shape=(12,12))\n",
    "mean_d2 = np.empty(12)\n",
    "err_d2 = np.empty(12)\n",
    "\n",
    "for z in range(12):\n",
    "    for x in range(12):\n",
    "        # Fit a polynomial of degree 1 (a linear function) to the data\n",
    "        diff2[x,z] = heights2[x,:,z][8]/heights2[x,:,z][2]\n",
    "        \n",
    "        \n",
    "    mean_d2[z] = np.mean(diff2[:,z])\n",
    "    err_d2[z] = np.std(diff2[:,z])/np.sqrt(12)\n",
    "      "
   ]
  },
  {
   "cell_type": "code",
   "execution_count": 35,
   "id": "44d9a310",
   "metadata": {},
   "outputs": [
    {
     "data": {
      "image/png": "[encoded data removed]",
      "text/plain": [
       "<Figure size 576x432 with 1 Axes>"
      ]
     },
     "metadata": {
      "needs_background": "light"
     },
     "output_type": "display_data"
    }
   ],
   "source": [
    "fig7, ax7 = plt.subplots(figsize = [8,6])\n",
    "\n",
    "ax7.errorbar(edges, mean_d2, yerr=err_d2, fmt=\"o-\", ecolor='r',label='model 2')\n",
    "\n",
    "ax7.set_xlabel('p', fontsize='xx-large');\n",
    "ax7.set_ylabel('$G_{A}$', fontsize='xx-large');   \n",
    "plt.xticks(fontsize = 'xx-large');\n",
    "plt.yticks(fontsize = 'xx-large');\n",
    "#ax7.set_yticks(np.arange(0,1.3,0.2));\n",
    "fig7.tight_layout();\n",
    "ax7.legend(frameon=True, title_fontsize = 'x-large', loc = 'best');"
   ]
  },
  {
   "cell_type": "code",
   "execution_count": 36,
   "id": "8c85b32f",
   "metadata": {},
   "outputs": [
    {
     "data": {
      "text/plain": [
       "array([26.23705557, 10.04035938,  8.97499637,  7.90334194,  7.61815761,\n",
       "        7.372575  ,  6.90297652,  6.83582549,  6.37244713,  6.62646586,\n",
       "        6.17513145,  6.06179952])"
      ]
     },
     "execution_count": 36,
     "metadata": {},
     "output_type": "execute_result"
    }
   ],
   "source": [
    "mean_d"
   ]
  },
  {
   "cell_type": "code",
   "execution_count": 37,
   "id": "df03763f",
   "metadata": {},
   "outputs": [],
   "source": [
    "compare2 = np.empty(11)\n",
    "for i in range(1,12):\n",
    "    compare2[i-1] = mean_d2[i-1]/mean_d2[i]"
   ]
  },
  {
   "cell_type": "code",
   "execution_count": 38,
   "id": "8a31032c",
   "metadata": {},
   "outputs": [
    {
     "data": {
      "image/png": "[encoded data removed]",
      "text/plain": [
       "<Figure size 576x432 with 1 Axes>"
      ]
     },
     "metadata": {
      "needs_background": "light"
     },
     "output_type": "display_data"
    }
   ],
   "source": [
    "fig8, ax8 = plt.subplots(figsize = [8,6])\n",
    "\n",
    "ax8.plot(edges[1:12], compare2, \"o-\", label='model 2')\n",
    "\n",
    "ax8.set_xlabel('p', fontsize='xx-large');\n",
    "ax8.set_ylabel('$G_{A}$', fontsize='xx-large');   \n",
    "plt.xticks(fontsize = 'xx-large');\n",
    "plt.yticks(fontsize = 'xx-large');\n",
    "#ax8.set_yticks(np.arange(0,1.3,0.2));\n",
    "fig8.tight_layout();\n",
    "ax8.legend(frameon=True, title_fontsize = 'x-large', loc = 'best');"
   ]
  },
  {
   "cell_type": "markdown",
   "id": "ba24c784",
   "metadata": {},
   "source": [
    "# Both models"
   ]
  },
  {
   "cell_type": "code",
   "execution_count": 39,
   "id": "0bad325e",
   "metadata": {
    "scrolled": true
   },
   "outputs": [
    {
     "data": {
      "image/png": "[encoded data removed]",
      "text/plain": [
       "<Figure size 576x432 with 1 Axes>"
      ]
     },
     "metadata": {
      "needs_background": "light"
     },
     "output_type": "display_data"
    }
   ],
   "source": [
    "fig9, ax9 = plt.subplots(figsize = [8,6])\n",
    "\n",
    "ax9.errorbar(edges, mean, yerr=err, fmt=\"o-\", ecolor='r',label='model 1')\n",
    "ax9.errorbar(edges, mean2, yerr=err2, fmt=\"o-\", ecolor='r',label='model 2')\n",
    "\n",
    "ax9.set_xlabel('p', fontsize='xx-large');\n",
    "ax9.set_ylabel('$G_{A}$', fontsize='xx-large');   \n",
    "plt.xticks(fontsize = 'xx-large');\n",
    "plt.yticks(fontsize = 'xx-large');\n",
    "#ax9.set_yticks(np.arange(0,1.3,0.2));\n",
    "fig9.tight_layout();\n",
    "ax9.legend(frameon=True, title_fontsize = 'x-large', loc = 'best');"
   ]
  },
  {
   "cell_type": "code",
   "execution_count": null,
   "id": "ea0483c0",
   "metadata": {},
   "outputs": [],
   "source": []
  },
  {
   "cell_type": "code",
   "execution_count": 40,
   "id": "737b4a1d",
   "metadata": {},
   "outputs": [
    {
     "data": {
      "image/png": "[encoded data removed]",
      "text/plain": [
       "<Figure size 576x432 with 1 Axes>"
      ]
     },
     "metadata": {
      "needs_background": "light"
     },
     "output_type": "display_data"
    }
   ],
   "source": [
    "fig10, ax10 = plt.subplots(figsize = [8,6])\n",
    "\n",
    "ax10.errorbar(edges, mean_d, yerr=err_d, fmt=\"o-\", ecolor='r',label='model 1')\n",
    "ax10.errorbar(edges, mean_d2, yerr=err_d2, fmt=\"o-\", ecolor='r',label='model 2')\n",
    "\n",
    "ax10.set_xlabel('p', fontsize='xx-large');\n",
    "ax10.set_ylabel('$G_{A}$', fontsize='xx-large');   \n",
    "plt.xticks(fontsize = 'xx-large');\n",
    "plt.yticks(fontsize = 'xx-large');\n",
    "#ax10.set_yticks(np.arange(0,1.3,0.2));\n",
    "fig10.tight_layout();\n",
    "ax10.legend(frameon=True, title_fontsize = 'x-large', loc = 'best');"
   ]
  },
  {
   "cell_type": "code",
   "execution_count": 41,
   "id": "bd62c691",
   "metadata": {
    "scrolled": true
   },
   "outputs": [
    {
     "data": {
      "image/png": "[encoded data removed]",
      "text/plain": [
       "<Figure size 576x432 with 1 Axes>"
      ]
     },
     "metadata": {
      "needs_background": "light"
     },
     "output_type": "display_data"
    }
   ],
   "source": [
    "fig11, ax11 = plt.subplots(figsize = [8,6])\n",
    "\n",
    "ax11.plot(edges[1:12], compare, \"o-\", label='model 1')\n",
    "ax11.plot(edges[1:12], compare2, \"o-\", label='model 2')\n",
    "\n",
    "ax11.set_xlabel('p', fontsize='xx-large');\n",
    "ax11.set_ylabel('$G_{A}$', fontsize='xx-large');   \n",
    "plt.xticks(fontsize = 'xx-large');\n",
    "plt.yticks(fontsize = 'xx-large');\n",
    "#ax11.set_yticks(np.arange(0,1.3,0.2));\n",
    "fig11.tight_layout();\n",
    "ax11.legend(frameon=True, title_fontsize = 'x-large', loc = 'best');"
   ]
  },
  {
   "cell_type": "code",
   "execution_count": 42,
   "id": "5ff18072",
   "metadata": {},
   "outputs": [],
   "source": [
    "invslope = np.empty(shape=(12,12))\n",
    "invmean = np.empty(12)\n",
    "inverr = np.empty(12)\n",
    "invslope2 = np.empty(shape=(12,12))\n",
    "invmean2 = np.empty(12)\n",
    "inverr2 = np.empty(12)\n",
    "\n",
    "for z in range(12):\n",
    "    for x in range(12):\n",
    "        # Fit a polynomial of degree 1 (a linear function) to the data\n",
    "        invslope[x,z] = 1/np.polyfit(k[2:9], np.log(heights[x,:,z][2:9]), 1)[0]\n",
    "        invslope2[x,z] = 1/np.polyfit(k[2:9], np.log(heights2[x,:,z][2:9]), 1)[0]\n",
    "        \n",
    "        \n",
    "    invmean[z] = np.mean(invslope[:,z])\n",
    "    inverr[z] = np.std(invslope[:,z])/np.sqrt(12)\n",
    "    invmean2[z] = np.mean(invslope2[:,z])\n",
    "    inverr2[z] = np.std(invslope2[:,z])/np.sqrt(12)"
   ]
  },
  {
   "cell_type": "code",
   "execution_count": 43,
   "id": "234b0e20",
   "metadata": {
    "scrolled": true
   },
   "outputs": [
    {
     "data": {
      "image/png": "[encoded data removed]",
      "text/plain": [
       "<Figure size 504x432 with 1 Axes>"
      ]
     },
     "metadata": {
      "needs_background": "light"
     },
     "output_type": "display_data"
    }
   ],
   "source": [
    "fig12, ax12 = plt.subplots(figsize = [7,6])\n",
    "\n",
    "ax12.errorbar(edges, invmean, yerr=inverr, fmt=\"o-\", ecolor='r',label='model N')\n",
    "ax12.errorbar(edges, invmean2, yerr=inverr2, fmt=\"o-\", ecolor='r',label='model R')\n",
    "\n",
    "ax12.set_xlabel('p', fontsize=22);\n",
    "ax12.set_ylabel('E', fontsize=22);   \n",
    "plt.xticks(fontsize = 22);\n",
    "plt.yticks(fontsize = 22);\n",
    "ax12.set_yticks(np.arange(0.2,0.41,0.1));\n",
    "ax12.tick_params(axis='both', width=1.3, length=5);\n",
    "ax12.legend(frameon=True, fontsize = 18, loc = 'upper left');\n",
    "fig12.tight_layout();\n",
    "#fig12.savefig(\"Elimination factor.pdf\");\n",
    "\n"
   ]
  },
  {
   "cell_type": "code",
   "execution_count": null,
   "id": "5d50fce8",
   "metadata": {},
   "outputs": [],
   "source": []
  },
  {
   "cell_type": "code",
   "execution_count": null,
   "id": "f001c06d",
   "metadata": {},
   "outputs": [],
   "source": []
  },
  {
   "cell_type": "code",
   "execution_count": null,
   "id": "43445adb",
   "metadata": {},
   "outputs": [],
   "source": []
  },
  {
   "cell_type": "code",
   "execution_count": 44,
   "id": "aa5f8763",
   "metadata": {},
   "outputs": [],
   "source": [
    "#model R"
   ]
  },
  {
   "cell_type": "code",
   "execution_count": 45,
   "id": "16ab21ee",
   "metadata": {},
   "outputs": [],
   "source": [
    "k_t2 = np.loadtxt(r\"C:\\Users\\TM\\Documents\\model 2\\log-hystogram\\k hist p = 0.2 repet = 8.txt\")\n"
   ]
  },
  {
   "cell_type": "code",
   "execution_count": 46,
   "id": "edda1558",
   "metadata": {},
   "outputs": [],
   "source": [
    "# Fit a polynomial of degree 1 (a linear function) to the data\n",
    "Hist_k2,Edges_k2 = np.histogram(k_t2,bins=list(np.linspace(0,1,11)))\n",
    "\n",
    "p2 = np.polyfit(k[2:9], np.log(Hist_k2[2:9]), 1)\n",
    "\n",
    "a2 = np.exp(p2[1])\n",
    "b2 = p2[0]\n",
    "x_fitted2 = np.linspace(np.min(k[2:9]), np.max(k[2:9]), 100)\n",
    "y_fitted2 = a2 * np.exp(b2 * x_fitted2)"
   ]
  },
  {
   "cell_type": "code",
   "execution_count": 47,
   "id": "894695fc",
   "metadata": {},
   "outputs": [
    {
     "data": {
      "text/plain": [
       "3.601741630954692"
      ]
     },
     "execution_count": 47,
     "metadata": {},
     "output_type": "execute_result"
    }
   ],
   "source": [
    "b2"
   ]
  },
  {
   "cell_type": "code",
   "execution_count": 48,
   "id": "6e10d9fb",
   "metadata": {
    "scrolled": true
   },
   "outputs": [
    {
     "data": {
      "image/png": "[encoded data removed]",
      "text/plain": [
       "<Figure size 576x432 with 1 Axes>"
      ]
     },
     "metadata": {
      "needs_background": "light"
     },
     "output_type": "display_data"
    }
   ],
   "source": [
    "# Histogram of k (every timestep counts)\n",
    "fig33, ax33 = plt.subplots(figsize = [8,6]);\n",
    "#ax33.set_title('Distribution of k', fontsize='x-large',fontweight='bold');\n",
    "ax33.yaxis.set_label_position(\"right\");\n",
    "ax33.yaxis.tick_right();\n",
    "ax33.set_xlabel('k', fontsize='xx-large');\n",
    "ax33.set_ylabel('$N_k$', fontsize='xx-large');\n",
    "ax33.hist(k_t2, bins=list(np.linspace(0,1,11)), color='black');\n",
    "ax33.set_xlim([0.0,1.1]);\n",
    "\n",
    "plt.xticks(fontsize = 'xx-large');\n",
    "plt.yticks(fontsize = 'xx-large');\n",
    "#ax33.invert_xaxis();\n",
    "ax33.tick_params(axis='both', width=3, length=12);\n",
    "ax33.plot(x_fitted2, y_fitted2, 'r', linewidth = 3, label=r'$α \\, e^{\\frac{k}{E}}$');\n",
    "ax33.legend(title ='p = 0.2',frameon=True, fontsize = 40, title_fontsize = 40, loc = 'best');\n",
    "#ax33.set_yscale('log');\n",
    "ax33.set_ylim([30,60001]);\n",
    "fig33.tight_layout();\n",
    "#fig33.savefig(\"fig3 side plots p = 0_2 modelR.pdf\");\n",
    "#ax33.tick_params(axis='both', which='major', labelsize=20, width=2.5, length=10)\n"
   ]
  },
  {
   "cell_type": "code",
   "execution_count": 49,
   "id": "f8220118",
   "metadata": {},
   "outputs": [],
   "source": [
    "species_count2 = np.unique(k_t2)[np.isnan(np.unique(k_t2)) == False]"
   ]
  },
  {
   "cell_type": "code",
   "execution_count": 50,
   "id": "999f2648",
   "metadata": {},
   "outputs": [],
   "source": [
    "# Fit a polynomial of degree 1 (a linear function) to the data\n",
    "Hist_k2,Edges_k2 = np.histogram(species_count2,bins=list(np.linspace(0,1,11)))\n",
    "\n",
    "p2 = np.polyfit(k[2:10], Hist_k2[2:10], 1)\n",
    "\n",
    "a2 = p2[1]\n",
    "b2 = p2[0]\n",
    "x_fitted2 = np.linspace(np.min(k[2:10]), np.max(k[2:10]), 100)\n",
    "y_fitted2 = a2 + b2 * x_fitted2"
   ]
  },
  {
   "cell_type": "code",
   "execution_count": 51,
   "id": "12eb9923",
   "metadata": {
    "scrolled": true
   },
   "outputs": [
    {
     "data": {
      "image/png": "[encoded data removed]",
      "text/plain": [
       "<Figure size 576x432 with 1 Axes>"
      ]
     },
     "metadata": {
      "needs_background": "light"
     },
     "output_type": "display_data"
    }
   ],
   "source": [
    "# Histogram of k \n",
    "fig33, ax33 = plt.subplots(figsize = [8,6]);\n",
    "ax33.yaxis.set_label_position(\"right\");\n",
    "ax33.yaxis.tick_right();\n",
    "#ax33.set_title('Distribution of k', fontsize='x-large',fontweight='bold');\n",
    "ax33.set_xlabel('k', fontsize=40);\n",
    "ax33.set_ylabel('$p_{entry}$', fontsize=40);\n",
    "ax33.hist(species_count2, bins=list(np.linspace(0,1,11)), color='black');\n",
    "ax33.set_xlim([0.0,1.1]);\n",
    "ax33.set_ylim([0.0,520]);\n",
    "ax33.set_yticks(np.arange(0,521,130));\n",
    "#ax33.legend(title='p = '+probability, frameon=False, title_fontsize = 'x-large', loc = 'best');\n",
    "plt.xticks(fontsize = 40);\n",
    "plt.yticks(fontsize = 40);\n",
    "fig33.tight_layout();\n",
    "#ax33.invert_xaxis();\n",
    "ax33.tick_params(axis='both', width=2, length=7.5);\n",
    "ax33.plot(x_fitted2, y_fitted2, 'r', linewidth = 3, label=r'$c_{1} + G_{A} \\, k$');\n",
    "ax33.legend(title ='p = 0.2',frameon=True, fontsize = 35, title_fontsize = 35, loc = 'upper left');\n",
    "#fig33.savefig(\"p entry - fig supplementary p = 0_2.pdf\");\n"
   ]
  },
  {
   "cell_type": "code",
   "execution_count": 52,
   "id": "5832b3b9",
   "metadata": {},
   "outputs": [
    {
     "data": {
      "text/plain": [
       "2383"
      ]
     },
     "execution_count": 52,
     "metadata": {},
     "output_type": "execute_result"
    }
   ],
   "source": [
    "len(species_count2)"
   ]
  },
  {
   "cell_type": "code",
   "execution_count": 53,
   "id": "53d159c0",
   "metadata": {},
   "outputs": [
    {
     "name": "stdout",
     "output_type": "stream",
     "text": [
      "[  0 117 163 214 259 262 310 320 358 380]\n"
     ]
    }
   ],
   "source": [
    "hist_k2,edges_k2 = np.histogram(species_count2,bins=list(np.linspace(0,1,11)))\n",
    "print(hist_k2)"
   ]
  },
  {
   "cell_type": "code",
   "execution_count": 54,
   "id": "805d6486",
   "metadata": {},
   "outputs": [
    {
     "name": "stdout",
     "output_type": "stream",
     "text": [
      "[0.         0.04909778 0.06840117 0.08980277 0.10868653 0.10994545\n",
      " 0.13008812 0.13428452 0.1502308  0.15946286]\n"
     ]
    }
   ],
   "source": [
    "print(hist_k2/len(species_count2))"
   ]
  },
  {
   "cell_type": "code",
   "execution_count": null,
   "id": "74431607",
   "metadata": {},
   "outputs": [],
   "source": []
  },
  {
   "cell_type": "code",
   "execution_count": null,
   "id": "a90bc6b2",
   "metadata": {},
   "outputs": [],
   "source": []
  },
  {
   "cell_type": "code",
   "execution_count": null,
   "id": "3fd6802c",
   "metadata": {},
   "outputs": [],
   "source": []
  },
  {
   "cell_type": "code",
   "execution_count": null,
   "id": "45ffd1be",
   "metadata": {},
   "outputs": [],
   "source": []
  },
  {
   "cell_type": "code",
   "execution_count": 55,
   "id": "b2df118a",
   "metadata": {},
   "outputs": [],
   "source": [
    "k_t = np.loadtxt(r\"C:\\Users\\TM\\Documents\\model 2\\log-hystogram\\k hist p = 0 repet = 5.txt\")\n"
   ]
  },
  {
   "cell_type": "code",
   "execution_count": 56,
   "id": "a8cf32fb",
   "metadata": {},
   "outputs": [],
   "source": [
    "# Fit a polynomial of degree 1 (a linear function) to the data\n",
    "Hist_k1,Edges_k1 = np.histogram(k_t,bins=list(np.linspace(0,1,11)))\n",
    "\n",
    "p = np.polyfit(k[2:9], np.log(Hist_k1[2:9]), 1)\n",
    "\n",
    "a = np.exp(p[1])\n",
    "b = p[0]\n",
    "x_fitted = np.linspace(np.min(k[2:9]), np.max(k[2:9]), 100)\n",
    "y_fitted = a * np.exp(b * x_fitted)"
   ]
  },
  {
   "cell_type": "code",
   "execution_count": 57,
   "id": "540fdeca",
   "metadata": {},
   "outputs": [
    {
     "data": {
      "image/png": "[encoded data removed]",
      "text/plain": [
       "<Figure size 576x432 with 1 Axes>"
      ]
     },
     "metadata": {
      "needs_background": "light"
     },
     "output_type": "display_data"
    }
   ],
   "source": [
    "# Histogram of k (every timestep counts)\n",
    "fig32, ax32 = plt.subplots(figsize = [8,6]);\n",
    "#ax32.set_title('Distribution of k', fontsize='x-large',fontweight='bold');\n",
    "ax32.yaxis.set_label_position(\"right\");\n",
    "ax32.yaxis.tick_right();\n",
    "ax32.set_xlabel('k', fontsize='xx-large');\n",
    "ax32.set_ylabel('$N_k$', fontsize='xx-large');\n",
    "ax32.hist(k_t, bins=list(np.linspace(0,1,11)), color='black');\n",
    "ax32.set_xlim([0.0,1.1]);\n",
    "\n",
    "plt.xticks(fontsize = 'xx-large');\n",
    "plt.yticks(fontsize = 'xx-large');\n",
    "#ax32.invert_xaxis();\n",
    "ax32.tick_params(axis='both', width=3, length=12);\n",
    "ax32.plot(x_fitted, y_fitted, 'r', linewidth = 3, label=r'$α \\, e^{\\frac{k}{E}}$');\n",
    "ax32.legend(title ='p = 0',frameon=True, fontsize = 40, title_fontsize = 40, loc = 'best');\n",
    "#ax32.set_yscale('log');\n",
    "ax32.set_ylim([30,60001]);\n",
    "fig32.tight_layout();\n",
    "#fig32.savefig(\"fig3 side plots p = 0 modelR2.pdf\");\n",
    "#ax32.tick_params(axis='both', which='major', labelsize=20, width=2.5, length=10)\n"
   ]
  },
  {
   "cell_type": "code",
   "execution_count": 58,
   "id": "eb2b1a30",
   "metadata": {},
   "outputs": [],
   "source": [
    "species_count1 = np.unique(k_t)[np.isnan(np.unique(k_t)) == False]"
   ]
  },
  {
   "cell_type": "code",
   "execution_count": 59,
   "id": "efca024d",
   "metadata": {},
   "outputs": [],
   "source": [
    "# Fit a polynomial of degree 1 (a linear function) to the data\n",
    "Hist_k1,Edges_k1 = np.histogram(species_count1,bins=list(np.linspace(0,1,11)))\n",
    "\n",
    "p1 = np.polyfit(k[2:10], Hist_k1[2:10], 1)\n",
    "\n",
    "a1 = p1[1]\n",
    "b1 = p1[0]\n",
    "x_fitted1 = np.linspace(np.min(k[2:10]), np.max(k[2:10]), 100)\n",
    "y_fitted1 = a1 + b1 * x_fitted1"
   ]
  },
  {
   "cell_type": "code",
   "execution_count": 73,
   "id": "09452056",
   "metadata": {},
   "outputs": [
    {
     "data": {
      "image/png": "[encoded data removed]",
      "text/plain": [
       "<Figure size 576x432 with 1 Axes>"
      ]
     },
     "metadata": {
      "needs_background": "light"
     },
     "output_type": "display_data"
    }
   ],
   "source": [
    "# Histogram of k \n",
    "fig32, ax32 = plt.subplots(figsize = [8,6]);\n",
    "ax32.yaxis.set_label_position(\"right\");\n",
    "ax32.yaxis.tick_right();\n",
    "#ax32.set_title('Distribution of k', fontsize='x-large',fontweight='bold');\n",
    "ax32.set_xlabel('k', fontsize=40);\n",
    "ax32.set_ylabel('$p_{entry}$', fontsize=40);\n",
    "ax32.hist(species_count1, bins=list(np.linspace(0,1,11)), color='black');\n",
    "ax32.set_xlim([0.0,1.1]);\n",
    "ax32.set_ylim([0.0,300]);\n",
    "ax32.set_yticks(np.arange(0,301,75));\n",
    "#ax32.legend(title='p = '+probability, frameon=False, title_fontsize = 'x-large', loc = 'best');\n",
    "plt.xticks(fontsize = 40);\n",
    "plt.yticks(fontsize = 40);\n",
    "fig32.tight_layout();\n",
    "#ax32.invert_xaxis();\n",
    "ax32.tick_params(axis='both', width=2, length=7.5);\n",
    "ax32.plot(x_fitted1, y_fitted1, 'r', linewidth = 3, label=r'$c\\, slope \\, k$');\n",
    "ax32.legend(title ='p = 0',frameon=True, fontsize = 35, title_fontsize = 35, loc = 'upper left');\n",
    "fig32.savefig(\"p entry - fig supplementary p = 0 new.pdf\");\n",
    "\n"
   ]
  },
  {
   "cell_type": "code",
   "execution_count": 61,
   "id": "95c2ab47",
   "metadata": {
    "scrolled": true
   },
   "outputs": [
    {
     "data": {
      "text/plain": [
       "1475"
      ]
     },
     "execution_count": 61,
     "metadata": {},
     "output_type": "execute_result"
    }
   ],
   "source": [
    "len(species_count1)"
   ]
  },
  {
   "cell_type": "code",
   "execution_count": 62,
   "id": "d8389e91",
   "metadata": {},
   "outputs": [
    {
     "name": "stdout",
     "output_type": "stream",
     "text": [
      "[  0  25  82 112 123 160 191 226 261 295]\n"
     ]
    }
   ],
   "source": [
    "hist_k1,edges_k1 = np.histogram(species_count1,bins=list(np.linspace(0,1,11)))\n",
    "print(hist_k1)"
   ]
  },
  {
   "cell_type": "code",
   "execution_count": 63,
   "id": "7ceb8758",
   "metadata": {},
   "outputs": [
    {
     "name": "stdout",
     "output_type": "stream",
     "text": [
      "[0.         0.01694915 0.05559322 0.0759322  0.08338983 0.10847458\n",
      " 0.12949153 0.15322034 0.17694915 0.2       ]\n"
     ]
    }
   ],
   "source": [
    "print(hist_k1/len(species_count1))"
   ]
  },
  {
   "cell_type": "code",
   "execution_count": null,
   "id": "cbf73c3a",
   "metadata": {},
   "outputs": [],
   "source": []
  },
  {
   "cell_type": "code",
   "execution_count": null,
   "id": "15cf1b72",
   "metadata": {},
   "outputs": [],
   "source": []
  },
  {
   "cell_type": "code",
   "execution_count": null,
   "id": "dcd3b235",
   "metadata": {},
   "outputs": [],
   "source": []
  },
  {
   "cell_type": "code",
   "execution_count": null,
   "id": "272d5067",
   "metadata": {},
   "outputs": [],
   "source": []
  },
  {
   "cell_type": "code",
   "execution_count": null,
   "id": "10d0a476",
   "metadata": {},
   "outputs": [],
   "source": []
  },
  {
   "cell_type": "code",
   "execution_count": null,
   "id": "4defd0a8",
   "metadata": {},
   "outputs": [],
   "source": []
  },
  {
   "cell_type": "code",
   "execution_count": 64,
   "id": "2c0f1c24",
   "metadata": {},
   "outputs": [],
   "source": [
    "#model N"
   ]
  },
  {
   "cell_type": "code",
   "execution_count": 65,
   "id": "4ffb35cb",
   "metadata": {},
   "outputs": [],
   "source": [
    "k_t3 = np.loadtxt(r\"C:\\Users\\TM\\Documents\\model 1\\log-hystogram\\k hist p = 0.2 repet = 3.txt\")"
   ]
  },
  {
   "cell_type": "code",
   "execution_count": 66,
   "id": "dc961912",
   "metadata": {},
   "outputs": [
    {
     "data": {
      "image/png": "[encoded data removed]",
      "text/plain": [
       "<Figure size 576x432 with 1 Axes>"
      ]
     },
     "metadata": {
      "needs_background": "light"
     },
     "output_type": "display_data"
    }
   ],
   "source": [
    "# Histogram of k (every timestep counts)\n",
    "fig34, ax34 = plt.subplots(figsize = [8,6]);\n",
    "#ax34.set_title('Distribution of k', fontsize='x-large',fontweight='bold');\n",
    "#ax34.yaxis.set_label_position(\"right\");\n",
    "#ax34.yaxis.tick_right();\n",
    "ax34.set_xlabel('k', fontsize='xx-large');\n",
    "ax34.set_ylabel('$N_k$', fontsize='xx-large');\n",
    "ax34.hist(k_t3, bins=list(np.linspace(0,1,11)), color='black');\n",
    "ax34.set_xlim([0.0,1.1]);\n",
    "\n",
    "plt.xticks(fontsize = 'xx-large');\n",
    "plt.yticks(fontsize = 'xx-large');\n",
    "ax34.invert_xaxis();\n",
    "ax34.tick_params(axis='both', width = 1.3, length=5);\n",
    "\n",
    "#ax34.legend(title ='p = 0.2',frameon=True, fontsize = 40, title_fontsize = 40, loc = 'best');\n",
    "#ax34.set_yscale('log');\n",
    "ax34.set_yticks(np.arange(0,12001,5000));\n",
    "fig34.tight_layout();\n",
    "#fig34.savefig(\"Number of bacteria per k per 10000 steps - model 1.png\");\n",
    "#ax34.tick_params(axis='both', which='major', labelsize=20, width=2.5, length=10)"
   ]
  },
  {
   "cell_type": "code",
   "execution_count": 67,
   "id": "242d7ae3",
   "metadata": {},
   "outputs": [],
   "source": [
    "species_count3 = np.unique(k_t3)[np.isnan(np.unique(k_t3)) == False]"
   ]
  },
  {
   "cell_type": "code",
   "execution_count": 68,
   "id": "b6e91b2b",
   "metadata": {},
   "outputs": [
    {
     "data": {
      "image/png": "[encoded data removed]",
      "text/plain": [
       "<Figure size 576x432 with 1 Axes>"
      ]
     },
     "metadata": {
      "needs_background": "light"
     },
     "output_type": "display_data"
    }
   ],
   "source": [
    "# Histogram of k \n",
    "fig35, ax35 = plt.subplots(figsize = [8,6]);\n",
    "#ax32.set_title('Distribution of k', fontsize='x-large',fontweight='bold');\n",
    "ax35.set_xlabel('k', fontsize='xx-large');\n",
    "ax35.set_ylabel('$p_{entry}$', fontsize='xx-large');\n",
    "ax35.hist(species_count3, bins=list(np.linspace(0,1,11)), color='black');\n",
    "ax35.set_xlim([0.0,1.1]);\n",
    "#ax35.set_ylim([0.0,400]);\n",
    "ax35.set_yticks(np.arange(0,451,112.5));\n",
    "#ax35.legend(title='p = '+probability, frameon=False, title_fontsize = 'x-large', loc = 'best');\n",
    "plt.xticks(fontsize = 'xx-large');\n",
    "plt.yticks(fontsize = 'xx-large');\n",
    "fig35.tight_layout();\n",
    "ax35.invert_xaxis();\n",
    "ax35.tick_params(axis='both', width=1.3, length=5);\n",
    "#fig35.savefig(\"p entry model1.png\");\n"
   ]
  },
  {
   "cell_type": "code",
   "execution_count": 69,
   "id": "6f20526b",
   "metadata": {},
   "outputs": [
    {
     "data": {
      "text/plain": [
       "2836"
      ]
     },
     "execution_count": 69,
     "metadata": {},
     "output_type": "execute_result"
    }
   ],
   "source": [
    "len(species_count3)"
   ]
  },
  {
   "cell_type": "code",
   "execution_count": 70,
   "id": "52582b89",
   "metadata": {},
   "outputs": [
    {
     "name": "stdout",
     "output_type": "stream",
     "text": [
      "[  0 161 220 283 299 295 360 389 408 421]\n"
     ]
    }
   ],
   "source": [
    "hist_k3,edges_k3 = np.histogram(species_count3,bins=list(np.linspace(0,1,11)))\n",
    "print(hist_k3)"
   ]
  },
  {
   "cell_type": "code",
   "execution_count": 71,
   "id": "ce5c01e7",
   "metadata": {},
   "outputs": [
    {
     "name": "stdout",
     "output_type": "stream",
     "text": [
      "[0.         0.0567701  0.07757405 0.09978843 0.10543018 0.10401975\n",
      " 0.12693935 0.13716502 0.1438646  0.14844852]\n"
     ]
    }
   ],
   "source": [
    "print(hist_k3/len(species_count3))"
   ]
  },
  {
   "cell_type": "code",
   "execution_count": null,
   "id": "53c9e3e1",
   "metadata": {},
   "outputs": [],
   "source": []
  }
 ],
 "metadata": {
  "kernelspec": {
   "display_name": "Python 3",
   "language": "python",
   "name": "python3"
  },
  "language_info": {
   "codemirror_mode": {
    "name": "ipython",
    "version": 3
   },
   "file_extension": ".py",
   "mimetype": "text/x-python",
   "name": "python",
   "nbconvert_exporter": "python",
   "pygments_lexer": "ipython3",
   "version": "3.8.8"
  }
 },
 "nbformat": 4,
 "nbformat_minor": 5
}
